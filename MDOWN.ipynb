{
 "cells": [
  {
   "cell_type": "markdown",
   "id": "47a039d6-f3b4-447b-aacb-e043d6fa7cc1",
   "metadata": {},
   "source": [
    "# PRESENTACION "
   ]
  },
  {
   "cell_type": "markdown",
   "id": "fcf8bba5-67bc-4816-b62e-3f3ec5b0c242",
   "metadata": {},
   "source": [
    "## DANIEL ISAAC ESTRADA CASTILLO "
   ]
  },
  {
   "cell_type": "markdown",
   "id": "ccb92fc1-03fb-413f-aa70-ec99e91ab909",
   "metadata": {},
   "source": [
    "Que tal, mi nombre es **Daniel Isaac Estrada Castillo**, tengo 22 años de edad, soy originario de Atotonilco el Alto, Jalisco. Actualmente me encuentro estudiando la carrera de Ingeniería Civil en el ITESO.\n",
    "\n",
    "Una rama que me gusta mucho de mi carrera es la parte de terraceria y pavimentaciones lo cual implementa la construccion de caminos nuevos, asi como caminos rurales, carreteras, vialidades urbanas entre otros.\n",
    "\n",
    "Considero que esta materia me será de mucha ayuda en temas de mi carrera ya que con la ayuda de los programas podre simular las resistencias de los materiales con los que se llevan a acabo las construcciones. Por ejemplo:\n",
    "\n",
    "- *simulacion de resistencias del concreto* \n",
    "- *simulacion de resistencias del acero*\n",
    "- *simulacion sobre compactaciones de base hidraulica* \n",
    "- *etc, etc*"
   ]
  },
  {
   "cell_type": "markdown",
   "id": "2ea58ddc-a792-47dc-8095-643593f6e199",
   "metadata": {},
   "source": [
    "Proceso constructivo de caminos o carreteras\n",
    "1. *Estudio de suelo en area a trabajar* \n",
    "2. *Mejoramiento de terreno con materiales petreos*\n",
    "3. *Nivelacion y compactación de terraplen*\n",
    "4. *Aplicacion de base hidraulica*\n",
    "5. *Aplicacion de pavimiento final (concreto o asfalto)*"
   ]
  },
  {
   "cell_type": "markdown",
   "id": "13ae6ae7-9899-41ee-94ac-07c76a5b1c1c",
   "metadata": {},
   "source": [
    "![IMG_3377.jpg.webp](VIALIDADES.webp)"
   ]
  },
  {
   "cell_type": "markdown",
   "id": "cd00f813-12ff-4393-badd-6203aac7effd",
   "metadata": {},
   "source": [
    "Ecuacion en linea $x = 4$"
   ]
  },
  {
   "cell_type": "code",
   "execution_count": null,
   "id": "ac332fd4-4ceb-4bcd-93f3-eb749f0a3c26",
   "metadata": {},
   "outputs": [],
   "source": []
  }
 ],
 "metadata": {
  "kernelspec": {
   "display_name": "Python 3 (ipykernel)",
   "language": "python",
   "name": "python3"
  },
  "language_info": {
   "codemirror_mode": {
    "name": "ipython",
    "version": 3
   },
   "file_extension": ".py",
   "mimetype": "text/x-python",
   "name": "python",
   "nbconvert_exporter": "python",
   "pygments_lexer": "ipython3",
   "version": "3.9.12"
  }
 },
 "nbformat": 4,
 "nbformat_minor": 5
}
